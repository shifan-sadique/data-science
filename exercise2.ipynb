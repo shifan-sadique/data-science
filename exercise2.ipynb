{
 "cells": [
  {
   "cell_type": "code",
   "execution_count": null,
   "id": "5928f20c",
   "metadata": {},
   "outputs": [],
   "source": []
  },
  {
   "cell_type": "code",
   "execution_count": null,
   "id": "2cf4b9a0",
   "metadata": {},
   "outputs": [],
   "source": []
  },
  {
   "cell_type": "code",
   "execution_count": null,
   "id": "a5dcf21a",
   "metadata": {},
   "outputs": [],
   "source": []
  },
  {
   "cell_type": "code",
   "execution_count": null,
   "id": "0d57faac",
   "metadata": {},
   "outputs": [],
   "source": []
  },
  {
   "cell_type": "code",
   "execution_count": null,
   "id": "94dfd3c7",
   "metadata": {},
   "outputs": [],
   "source": []
  },
  {
   "cell_type": "code",
   "execution_count": 26,
   "id": "6f20b9a5",
   "metadata": {},
   "outputs": [
    {
     "name": "stdout",
     "output_type": "stream",
     "text": [
      "\n",
      "ARRAY 1 Elements : \n",
      "5 4 8 9\n",
      "\n",
      "ARRAY 1 ,  ROW COLUMN : \n",
      "2 2\n",
      "\n",
      "ARRAY 1\n",
      "[[5 4]\n",
      " [8 9]]\n",
      "\n",
      "ARRAY 2 Elements : \n",
      "2 5 7 9\n",
      "\n",
      "ARRAY 2 ,  ROW COLUMN : \n",
      "2 2\n",
      "\n",
      "ARRAY 2\n",
      "[[2 5]\n",
      " [7 9]]\n",
      "\n",
      "Dot product\n",
      "[[ 38  61]\n",
      " [ 79 121]]\n"
     ]
    }
   ],
   "source": [
    "import numpy as np \n",
    "\n",
    "def create_matrix(mc):\n",
    "    print(\"\\nARRAY \"+str(mc)+\" Elements : \")\n",
    "    array_1 = map(int, input().split())\n",
    "    array_1 = np.array(list(array_1))\n",
    "    \n",
    "    print(\"\\nARRAY \"+str(mc)+\" ,  ROW COLUMN : \")\n",
    "    row,column = map(int, input().split())\n",
    "    if(len(array_1)!= (row*column)):\n",
    "        print(\"\\nRow and Column size not match with total elements !! retry\")\n",
    "        return create_matrix(mc)\n",
    "    array_1 = array_1.reshape(row,column)\n",
    "    print(\"\\nARRAY \"+str(mc))\n",
    "    print(array_1)\n",
    "    return array_1\n",
    "\n",
    "\n",
    "arr1 = create_matrix(1)\n",
    "arr2 = create_matrix(2)\n",
    "\n",
    "if(arr1.shape == arr2.shape):\n",
    "    print(\"\\nDot product\")\n",
    "    print(np.dot(arr1,arr2))\n",
    "else:\n",
    "    print(\"\\nDimensions not matching!\")"
   ]
  },
  {
   "cell_type": "code",
   "execution_count": 28,
   "id": "b77471b6",
   "metadata": {},
   "outputs": [
    {
     "name": "stdout",
     "output_type": "stream",
     "text": [
      "\n",
      "ARRAY 1 Elements : \n",
      "1 2 3 4\n",
      "\n",
      "ARRAY 1 ,  ROW COLUMN : \n",
      "2 2\n",
      "\n",
      "ARRAY 1\n",
      "[[1 2]\n",
      " [3 4]]\n",
      "\n",
      "Transpose : \n",
      "[[1 3]\n",
      " [2 4]]\n"
     ]
    }
   ],
   "source": [
    "import numpy as np \n",
    "\n",
    "def create_matrix(mc):\n",
    "    print(\"\\nARRAY \"+str(mc)+\" Elements : \")\n",
    "    array_1 = map(int, input().split())\n",
    "    array_1 = np.array(list(array_1))\n",
    "    #print(arr)\n",
    "    print(\"\\nARRAY \"+str(mc)+\" ,  ROW COLUMN : \")\n",
    "    row,column = map(int, input().split())\n",
    "    if(len(array_1)!= (row*column)):\n",
    "        print(\"\\nRow and Column size not match with total elements !! retry\")\n",
    "        return create_matrix(mc)\n",
    "    array_1 = array_1.reshape(row,column)\n",
    "    print(\"\\nARRAY \"+str(mc))\n",
    "    print(array_1)\n",
    "    print(\"\\nTranspose : \")\n",
    "    return array_1\n",
    "\n",
    "\n",
    "\n",
    "print(create_matrix(1).transpose())"
   ]
  },
  {
   "cell_type": "code",
   "execution_count": 29,
   "id": "0c1cd2ba",
   "metadata": {},
   "outputs": [
    {
     "name": "stdout",
     "output_type": "stream",
     "text": [
      "\n",
      "ARRAY 1 Elements : \n",
      "1 2 3 4\n",
      "\n",
      "ARRAY 1 ,  ROW COLUMN : \n",
      "2 2\n",
      "\n",
      "ARRAY 1\n",
      "[[1 2]\n",
      " [3 4]]\n",
      "\n",
      "Trase : \n",
      "5\n"
     ]
    }
   ],
   "source": [
    "import numpy as np \n",
    "\n",
    "def create_matrix(mc):\n",
    "    print(\"\\nARRAY \"+str(mc)+\" Elements : \")\n",
    "    array_1 = map(int, input().split())\n",
    "    array_1 = np.array(list(array_1))\n",
    "    #print(arr)\n",
    "    print(\"\\nARRAY \"+str(mc)+\" ,  ROW COLUMN : \")\n",
    "    row,column = map(int, input().split())\n",
    "    if(len(array_1)!= (row*column)):\n",
    "        print(\"\\nRow and Column size not match with total elements !! retry\")\n",
    "        return create_matrix(mc)\n",
    "    array_1 = array_1.reshape(row,column)\n",
    "    print(\"\\nARRAY \"+str(mc))\n",
    "    print(array_1)\n",
    "    print(\"\\nTrase : \")\n",
    "    return array_1\n",
    "\n",
    "\n",
    "\n",
    "print(create_matrix(1).trace())"
   ]
  },
  {
   "cell_type": "code",
   "execution_count": 30,
   "id": "7d04f2dc",
   "metadata": {},
   "outputs": [
    {
     "name": "stdout",
     "output_type": "stream",
     "text": [
      "\n",
      "ARRAY 1 Elements : \n",
      "1 2 3 4\n",
      "\n",
      "ARRAY 1 ,  ROW COLUMN : \n",
      "2 2\n",
      "\n",
      "ARRAY 1\n",
      "[[1 2]\n",
      " [3 4]]\n",
      "\n",
      "Rank : \n",
      "2\n"
     ]
    }
   ],
   "source": [
    "import numpy as np \n",
    "\n",
    "def create_matrix(mc):\n",
    "    print(\"\\nARRAY \"+str(mc)+\" Elements : \")\n",
    "    array_1 = map(int, input().split())\n",
    "    array_1 = np.array(list(array_1))\n",
    "    #print(arr)\n",
    "    print(\"\\nARRAY \"+str(mc)+\" ,  ROW COLUMN : \")\n",
    "    row,column = map(int, input().split())\n",
    "    if(len(array_1)!= (row*column)):\n",
    "        print(\"\\nRow and Column size not match with total elements !! retry\")\n",
    "        return create_matrix(mc)\n",
    "    array_1 = array_1.reshape(row,column)\n",
    "    print(\"\\nARRAY \"+str(mc))\n",
    "    print(array_1)\n",
    "    print(\"\\nRank : \")\n",
    "    return array_1\n",
    "\n",
    "\n",
    "\n",
    "print(np.linalg.matrix_rank(create_matrix(1)))"
   ]
  },
  {
   "cell_type": "code",
   "execution_count": 31,
   "id": "774dc984",
   "metadata": {},
   "outputs": [
    {
     "name": "stdout",
     "output_type": "stream",
     "text": [
      "\n",
      "ARRAY 1 Elements : \n",
      "1 2 3 4\n",
      "\n",
      "ARRAY 1 ,  ROW COLUMN : \n",
      "2 2 \n",
      "\n",
      "ARRAY 1\n",
      "[[1 2]\n",
      " [3 4]]\n",
      "\n",
      "Determinant : \n",
      "-2.0000000000000004\n"
     ]
    }
   ],
   "source": [
    "import numpy as np \n",
    "\n",
    "def create_matrix(mc):\n",
    "    print(\"\\nARRAY \"+str(mc)+\" Elements : \")\n",
    "    array_1 = map(int, input().split())\n",
    "    array_1 = np.array(list(array_1))\n",
    "    #print(arr)\n",
    "    print(\"\\nARRAY \"+str(mc)+\" ,  ROW COLUMN : \")\n",
    "    row,column = map(int, input().split())\n",
    "    if(len(array_1)!= (row*column)):\n",
    "        print(\"\\nRow and Column size not match with total elements !! retry\")\n",
    "        return create_matrix(mc)\n",
    "    array_1 = array_1.reshape(row,column)\n",
    "    print(\"\\nARRAY \"+str(mc))\n",
    "    print(array_1)\n",
    "    print(\"\\nDeterminant : \")\n",
    "    return array_1\n",
    "\n",
    "\n",
    "\n",
    "print(np.linalg.det(create_matrix(1)))"
   ]
  },
  {
   "cell_type": "code",
   "execution_count": 32,
   "id": "968d95a6",
   "metadata": {},
   "outputs": [
    {
     "name": "stdout",
     "output_type": "stream",
     "text": [
      "\n",
      "ARRAY 1 Elements : \n",
      "1 2 3 4\n",
      "\n",
      "ARRAY 1 ,  ROW COLUMN : \n",
      "2 2\n",
      "\n",
      "ARRAY 1\n",
      "[[1 2]\n",
      " [3 4]]\n",
      "\n",
      "Inverse : \n",
      "[[-2.   1. ]\n",
      " [ 1.5 -0.5]]\n"
     ]
    }
   ],
   "source": [
    "import numpy as np \n",
    "\n",
    "def create_matrix(mc):\n",
    "    print(\"\\nARRAY \"+str(mc)+\" Elements : \")\n",
    "    array_1 = map(int, input().split())\n",
    "    array_1 = np.array(list(array_1))\n",
    "    #print(arr)\n",
    "    print(\"\\nARRAY \"+str(mc)+\" ,  ROW COLUMN : \")\n",
    "    row,column = map(int, input().split())\n",
    "    if(len(array_1)!= (row*column)):\n",
    "        print(\"\\nRow and Column size not match with total elements !! retry\")\n",
    "        return create_matrix(mc)\n",
    "    array_1 = array_1.reshape(row,column)\n",
    "    print(\"\\nARRAY \"+str(mc))\n",
    "    print(array_1)\n",
    "    print(\"\\nInverse : \")\n",
    "    return array_1\n",
    "\n",
    "\n",
    "\n",
    "print(np.linalg.inv(create_matrix(1)))"
   ]
  },
  {
   "cell_type": "code",
   "execution_count": 33,
   "id": "315a8eae",
   "metadata": {},
   "outputs": [
    {
     "name": "stdout",
     "output_type": "stream",
     "text": [
      "\n",
      "ARRAY 1 Elements : \n",
      "1 2 3 4\n",
      "\n",
      "ARRAY 1 ,  ROW COLUMN : \n",
      "2 2\n",
      "\n",
      "ARRAY 1\n",
      "[[1 2]\n",
      " [3 4]]\n",
      "\n",
      "E-value : \n",
      "[-0.37228132  5.37228132]\n",
      "\n",
      "E-vector : \n",
      "[[-0.82456484 -0.41597356]\n",
      " [ 0.56576746 -0.90937671]]\n"
     ]
    }
   ],
   "source": [
    "import numpy as np \n",
    "\n",
    "def create_matrix(mc):\n",
    "    print(\"\\nARRAY \"+str(mc)+\" Elements : \")\n",
    "    array_1 = map(int, input().split())\n",
    "    array_1 = np.array(list(array_1))\n",
    "    #print(arr)\n",
    "    print(\"\\nARRAY \"+str(mc)+\" ,  ROW COLUMN : \")\n",
    "    row,column = map(int, input().split())\n",
    "    if(len(array_1)!= (row*column)):\n",
    "        print(\"\\nRow and Column size not match with total elements !! retry\")\n",
    "        return create_matrix(mc)\n",
    "    array_1 = array_1.reshape(row,column)\n",
    "    print(\"\\nARRAY \"+str(mc))\n",
    "    print(array_1)\n",
    "    return array_1\n",
    "\n",
    "\n",
    "\n",
    "x,y = np.linalg.eig(create_matrix(1))\n",
    "\n",
    "print(\"\\nE-value : \")\n",
    "print(x)\n",
    "print(\"\\nE-vector : \")\n",
    "print(y)"
   ]
  },
  {
   "cell_type": "code",
   "execution_count": null,
   "id": "c2cad332",
   "metadata": {},
   "outputs": [],
   "source": []
  }
 ],
 "metadata": {
  "kernelspec": {
   "display_name": "Python 3 (ipykernel)",
   "language": "python",
   "name": "python3"
  },
  "language_info": {
   "codemirror_mode": {
    "name": "ipython",
    "version": 3
   },
   "file_extension": ".py",
   "mimetype": "text/x-python",
   "name": "python",
   "nbconvert_exporter": "python",
   "pygments_lexer": "ipython3",
   "version": "3.9.12"
  }
 },
 "nbformat": 4,
 "nbformat_minor": 5
}
