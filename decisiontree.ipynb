import pandas as pd
import numpy as np
from sklearn.datasets import load_iris

data= load_iris()

data.data.shape

print("target: ",data.target_names)
print(data.feature_names)

x=data.data
y=data.target
print(x.shape,y.shape)

from sklearn.model_selection import train_test_split
from sklearn.tree import DecisionTreeClassifier
xtrain,xtest,ytrain,ytest=train_test_split(x,y,random_state=50,test_size=0.25)

classifier=DecisionTreeClassifier()
classifier.fit(xtrain,ytrain)

ypred=classifier.predict(xtest)

from sklearn.metrics import accuracy_score
print(accuracy_score(y_true=ytrain,y_pred=classifier.predict(xtrain)))
print(accuracy_score(y_true=ytest,y_pred=ypred))

classifier_entropy1 = DecisionTreeClassifier(criterion='entropy', min_samples_split=50)
classifier_entropy1.fit(xtrain, ytrain)
y_pred_entropy1 = classifier_entropy1.predict(xtest)
print('Accuracy on train data using entropy', accuracy_score(y_true=ytrain, y_pred = classifier_entropy1.predict(xtrain)))
print('Accuracy on test data using entropy', accuracy_score(y_true=ytest, y_pred = y_pred_entropy1))

from sklearn.tree import export_graphviz
from six import StringIO
from IPython.display import Image
import pydotplus

dot_data = StringIO()
#the students can try using classifier, classifier_entropy and classifier_entropy1
#as first parameter below.
export_graphviz(classifier, out_file=dot_data,  feature_names = data.feature_names, class_names = data.target_names)
graph = pydotplus.graph_from_dot_data(dot_data.getvalue())
Image(graph.create_png())

